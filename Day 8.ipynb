{
 "cells": [
  {
   "cell_type": "code",
   "execution_count": 1,
   "metadata": {},
   "outputs": [
    {
     "name": "stdout",
     "output_type": "stream",
     "text": [
      "Hellosokhib\n",
      "How do you do?\n",
      "Isn't the weather nice today?\n"
     ]
    }
   ],
   "source": [
    "def greet(name):\n",
    "    print(\"Hello \" + name)\n",
    "    print(\"How do you do?\")\n",
    "    print(\"Isn't the weather nice today?\")\n",
    "\n",
    "greet(\"sokhib\")"
   ]
  },
  {
   "cell_type": "markdown",
   "metadata": {},
   "source": [
    "# Creating the \"Ceasar Cipher\""
   ]
  },
  {
   "cell_type": "code",
   "execution_count": 5,
   "metadata": {},
   "outputs": [
    {
     "name": "stdout",
     "output_type": "stream",
     "text": [
      "Your decoded message is sokhib\n"
     ]
    }
   ],
   "source": [
    "import string\n",
    "\n",
    "upperCase = string.ascii_uppercase\n",
    "lowerCase = string.ascii_lowercase\n",
    "\n",
    "commandType = input(\"Type encrypt to encode a message or type decrypt to decode a message: \")\n",
    "shiftNumber = int(input(\"Enter a shift number: \"))\n",
    "if commandType == \"encrypt\":\n",
    "    message = input(\"Enter the message you want to encode: \")\n",
    "    encodedMessage = \"\"\n",
    "\n",
    "    for letter in message:\n",
    "        if letter.isupper():\n",
    "            idx = upperCase.find(letter)\n",
    "            encodedMessage += str(upperCase[idx + shiftNumber])\n",
    "        elif letter.islower():\n",
    "            idx = lowerCase.find(letter)\n",
    "            encodedMessage += str(lowerCase[idx + shiftNumber])\n",
    "        else: \n",
    "            encodedMessage += letter\n",
    "    print(f'Your encoded message is {encodedMessage}')\n",
    "elif commandType == \"decrypt\":\n",
    "    message = input(\"Enter the message you want to decode: \")\n",
    "    decodedMessage = \"\"\n",
    "\n",
    "    for letter in message:\n",
    "        if letter.isupper():\n",
    "            idx = upperCase.find(letter)\n",
    "            decodedMessage += str(upperCase[idx - shiftNumber])\n",
    "        elif letter.islower():\n",
    "            idx = lowerCase.find(letter)\n",
    "            decodedMessage += str(lowerCase[idx - shiftNumber])\n",
    "        else:\n",
    "            decodedMessage += letter\n",
    "    print(f'Your decoded message is {decodedMessage}')"
   ]
  }
 ],
 "metadata": {
  "kernelspec": {
   "display_name": "Python 3",
   "language": "python",
   "name": "python3"
  },
  "language_info": {
   "codemirror_mode": {
    "name": "ipython",
    "version": 3
   },
   "file_extension": ".py",
   "mimetype": "text/x-python",
   "name": "python",
   "nbconvert_exporter": "python",
   "pygments_lexer": "ipython3",
   "version": "3.11.9"
  }
 },
 "nbformat": 4,
 "nbformat_minor": 2
}
