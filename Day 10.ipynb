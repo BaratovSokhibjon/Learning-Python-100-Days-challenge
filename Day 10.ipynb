{
 "cells": [
  {
   "cell_type": "code",
   "execution_count": 1,
   "metadata": {},
   "outputs": [],
   "source": [
    "def formatName(firstName, lastName):\n",
    "    return f'{firstName.title()} {lastName.title()}'"
   ]
  },
  {
   "cell_type": "code",
   "execution_count": 2,
   "metadata": {},
   "outputs": [
    {
     "data": {
      "text/plain": [
       "'Sokhib Baratov'"
      ]
     },
     "execution_count": 2,
     "metadata": {},
     "output_type": "execute_result"
    }
   ],
   "source": [
    "formatName(\"sOkHib\", \"BarAtOv\")"
   ]
  },
  {
   "cell_type": "code",
   "execution_count": 3,
   "metadata": {},
   "outputs": [],
   "source": [
    "def is_leap_year(year):\n",
    "    \"\"\" \n",
    "    This is a docstring\n",
    "    Docstrings are used to define what a function does to the developer\n",
    "    so that they can see the function of a function when they hover over the function name\n",
    "    \"\"\"\n",
    "    if year % 4 == 0:\n",
    "        if year % 400 == 0:\n",
    "            return True\n",
    "        return False\n",
    "    elif year % 100 == 0:\n",
    "        return False\n",
    "    else:\n",
    "        return False"
   ]
  },
  {
   "cell_type": "code",
   "execution_count": 5,
   "metadata": {},
   "outputs": [
    {
     "data": {
      "text/plain": [
       "True"
      ]
     },
     "execution_count": 5,
     "metadata": {},
     "output_type": "execute_result"
    }
   ],
   "source": [
    "is_leap_year(2000) #try hovering over the leop year function: you will see the docstring defenition"
   ]
  },
  {
   "cell_type": "markdown",
   "metadata": {},
   "source": [
    "## Leap years:\n",
    "\n",
    "- 2000 (divisible by 400)\n",
    "- 2024 (divisible by 4, not divisible by 100)\n",
    "## Not leap years:\n",
    "- 1900 (divisible by 100 but not 400)\n",
    "- 2023 (not divisible by 4)\n"
   ]
  },
  {
   "cell_type": "markdown",
   "metadata": {},
   "source": [
    "# Calculator program"
   ]
  },
  {
   "cell_type": "code",
   "execution_count": null,
   "metadata": {},
   "outputs": [],
   "source": [
    "def add(n1, n2):\n",
    "    return n1 + n2\n",
    "\n",
    "def substract(n1, n2):\n",
    "    return n1 - n2\n",
    "\n",
    "def multiply(n1, n2):\n",
    "    return n1 * n2\n",
    "\n",
    "def divide(n1, n2):\n",
    "    return n1 / n2\n",
    "\n",
    "operations = {\n",
    "    '+': add,\n",
    "    '-': substract,\n",
    "    '*': multiply,\n",
    "    ':': divide\n",
    "}\n",
    "\n",
    "n1 = float(input(\"Please enter the first number: \"))\n",
    "\n",
    "while True:\n",
    "    for symbol in operations:\n",
    "        print(symbol)\n",
    "    operation = input(\"Please pick an operation: \")\n",
    "    n2 = float(input(\"Please enter the secont number: \"))\n",
    "    result = operations[operation](n1, n2)\n",
    "    log = f'{str(n1)} {operation} {str(n2)} = {str(result)}'\n",
    "\n",
    "    print(log)\n",
    "\n",
    "    choice = input(\"Type 'y' to continue calculating with the \" + log + \" or type 'n' to end the calculation\")\n",
    "\n",
    "    if choice == \"y\":\n",
    "        n1 = result\n",
    "    elif choice == \"n\":\n",
    "        break\n",
    "    else:\n",
    "        print(\"You typed an invalid character!\")"
   ]
  },
  {
   "cell_type": "code",
   "execution_count": null,
   "metadata": {},
   "outputs": [],
   "source": []
  }
 ],
 "metadata": {
  "kernelspec": {
   "display_name": "Python 3",
   "language": "python",
   "name": "python3"
  },
  "language_info": {
   "codemirror_mode": {
    "name": "ipython",
    "version": 3
   },
   "file_extension": ".py",
   "mimetype": "text/x-python",
   "name": "python",
   "nbconvert_exporter": "python",
   "pygments_lexer": "ipython3",
   "version": "3.12.5"
  }
 },
 "nbformat": 4,
 "nbformat_minor": 2
}
