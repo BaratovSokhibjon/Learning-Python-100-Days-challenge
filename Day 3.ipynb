{
 "cells": [
  {
   "cell_type": "markdown",
   "metadata": {},
   "source": [
    "# Flow control and locigal operators"
   ]
  },
  {
   "cell_type": "code",
   "execution_count": 1,
   "metadata": {},
   "outputs": [
    {
     "name": "stdout",
     "output_type": "stream",
     "text": [
      "This is an even number.\n"
     ]
    }
   ],
   "source": [
    "# Which number do you want to check?\n",
    "number = int(input())\n",
    "# 🚨 Don't change the code above 👆\n",
    "\n",
    "# Write your code below this line 👇\n",
    "if (number%2==0):\n",
    "  print(\"This is an even number.\")\n",
    "else:\n",
    "  print(\"This is an odd number.\")"
   ]
  },
  {
   "cell_type": "markdown",
   "metadata": {},
   "source": [
    "# Rollercoaster mini-program"
   ]
  },
  {
   "cell_type": "code",
   "execution_count": 5,
   "metadata": {},
   "outputs": [
    {
     "name": "stdout",
     "output_type": "stream",
     "text": [
      "Welcome to rollercoaster!!!\n",
      "You can ride the rollercoaster!!!\n",
      "Please pay $12\n",
      "Total is $15\n"
     ]
    }
   ],
   "source": [
    "print(\"Welcome to rollercoaster!!!\")\n",
    "age = int(input(\"How old are you?\"))\n",
    "height = int(input(\"What is your height?\"))\n",
    "price = 0\n",
    "\n",
    "if(height >= 120):\n",
    "    print(\"You can ride the rollercoaster!!!\")\n",
    "    if(age >= 18):\n",
    "        price = 12\n",
    "        print(\"Please pay $12\")\n",
    "    elif(age >= 12):\n",
    "        price = 7\n",
    "        print(\"Please pay $7\")\n",
    "    elif(age >= 8):\n",
    "        price = 4\n",
    "        print(\"Please pay $4\")\n",
    "    elif age >= 45 and age <= 55:\n",
    "        print(\"Free ride for midlife crisis\")\n",
    "else:\n",
    "    print(\"Sorry, you cannot ride the rollercoaster :(\")\n",
    "\n",
    "photo = input(\"Do you want a photo?\")\n",
    "if(photo.lower() == \"yes\"):\n",
    "    price+= 3\n",
    "\n",
    "print(f\"Total is ${price}\")"
   ]
  },
  {
   "cell_type": "markdown",
   "metadata": {},
   "source": [
    "# BMI 2.0 "
   ]
  },
  {
   "cell_type": "code",
   "execution_count": null,
   "metadata": {},
   "outputs": [],
   "source": [
    "# Enter your height in meters e.g., 1.55\n",
    "height = float(input())\n",
    "# Enter your weight in kilograms e.g., 72\n",
    "weight = int(input())\n",
    "# 🚨 Don't change the code above 👆\n",
    "\n",
    "#Write your code below this line 👇\n",
    "\n",
    "bmi = weight/(height*height)\n",
    "\n",
    "if(bmi < 18.5):\n",
    "  print(f'Your BMI is {bmi}, you are underweight.')\n",
    "elif(bmi < 25):\n",
    "    print(f'Your BMI is {bmi}, you have a normal weight.')\n",
    "elif(bmi < 30):\n",
    "    print(f'Your BMI is {bmi}, you are slightly overweight.')\n",
    "elif(bmi < 35):\n",
    "    print(f'Your BMI is {bmi}, you are obese.')\n",
    "elif(bmi >= 35 ):\n",
    "    print(f'Your BMI is {bmi}, you are clinically obese.')"
   ]
  },
  {
   "cell_type": "markdown",
   "metadata": {},
   "source": [
    "# Leap year mini-program"
   ]
  },
  {
   "cell_type": "code",
   "execution_count": null,
   "metadata": {},
   "outputs": [],
   "source": [
    "# Which year do you want to check?\n",
    "year = int(input())\n",
    "# 🚨 Don't change the code above 👆\n",
    "\n",
    "# Write your code below this line 👇\n",
    "if(year % 400 == 0 or (year % 100 != 0 and year % 4 == 0)):\n",
    "  print(\"Leap year\")\n",
    "else:\n",
    "  print(\"Not leap year\")"
   ]
  },
  {
   "cell_type": "markdown",
   "metadata": {},
   "source": [
    "# Python pizza app"
   ]
  },
  {
   "cell_type": "code",
   "execution_count": null,
   "metadata": {},
   "outputs": [],
   "source": [
    "print(\"Thank you for choosing Python Pizza Deliveries!\")\n",
    "size = input() # What size pizza do you want? S, M, or L\n",
    "add_pepperoni = input() # Do you want pepperoni? Y or N\n",
    "extra_cheese = input() # Do you want extra cheese? Y or N\n",
    "# 🚨 Don't change the code above 👆\n",
    "# Write your code below this line 👇\n",
    "\n",
    "price = 0\n",
    "if(size == 'S'):\n",
    "  price = 15\n",
    "  if(add_pepperoni.lower() == 'y'):\n",
    "    price += 2\n",
    "elif(size == 'M'):\n",
    "  price = 20\n",
    "  if(add_pepperoni.lower() == 'y'):\n",
    "    price += 3\n",
    "elif(size == 'L'):\n",
    "  price = 25\n",
    "  if(add_pepperoni.lower() == 'y'):\n",
    "    price += 3\n",
    "\n",
    "if(extra_cheese.lower() == 'y'):\n",
    "  price += 1\n",
    "\n",
    "print(f'Your final bill is: ${price}.')"
   ]
  },
  {
   "cell_type": "markdown",
   "metadata": {},
   "source": [
    "# Love calculator"
   ]
  },
  {
   "cell_type": "code",
   "execution_count": null,
   "metadata": {},
   "outputs": [],
   "source": [
    "print(\"The Love Calculator is calculating your score...\")\n",
    "name1 = input() # What is your name?\n",
    "name2 = input() # What is their name?\n",
    "# 🚨 Don't change the code above 👆\n",
    "# Write your code below this line 👇\n",
    "\n",
    "names = name1 + name2\n",
    "combined = names.lower()\n",
    "\n",
    "t = combined.count(\"t\")\n",
    "r = combined.count(\"r\")\n",
    "u = combined.count(\"u\")\n",
    "e = combined.count(\"e\")\n",
    "\n",
    "true = t + r + u + e\n",
    "\n",
    "l = combined.count(\"l\")\n",
    "o = combined.count(\"o\")\n",
    "v = combined.count(\"v\")\n",
    "e = combined.count(\"e\")\n",
    "\n",
    "love = l + o + v + e\n",
    "\n",
    "score = int(str(true) + str(love))\n",
    "\n",
    "if(score < 10 or score > 90):\n",
    "  print(f\"Your score is {score}, you go together like coke and mentos.\")\n",
    "elif(score > 40 and score < 50):\n",
    "  print(f\"Your score is {score}, you are alright together.\")\n",
    "else:\n",
    "  print(f\"Your score is {score}.\")\n"
   ]
  },
  {
   "cell_type": "markdown",
   "metadata": {},
   "source": [
    "# Treasure game"
   ]
  },
  {
   "cell_type": "code",
   "execution_count": 10,
   "metadata": {},
   "outputs": [
    {
     "name": "stdout",
     "output_type": "stream",
     "text": [
      "\n",
      "*******************************************************************************\n",
      "          |                   |                  |                     |\n",
      " _________|________________.=\"\"_;=.______________|_____________________|_______\n",
      "|                   |  ,-\"_,=\"\"     `\"=.|                  |\n",
      "|___________________|__\"=._o`\"-._        `\"=.______________|___________________\n",
      "          |                `\"=._o`\"=._      _`\"=._                     |\n",
      " _________|_____________________:=._o \"=._.\"_.-=\"'\"=.__________________|_______\n",
      "|                   |    __.--\" , ; `\"=._o.\" ,-\"\"\"-._ \".   |\n",
      "|___________________|_._\"  ,. .` ` `` ,  `\"-._\"-._   \". '__|___________________\n",
      "          |           |o`\"=._` , \"` `; .\". ,  \"-._\"-._; ;              |\n",
      " _________|___________| ;`-.o`\"=._; .\" ` '`.\"\\` . \"-._ /_______________|_______\n",
      "|                   | |o;    `\"-.o`\"=._``  '` \" ,__.--o;   |\n",
      "|___________________|_| ;     (#) `-.o `\"=.`_.--\"_o.-; ;___|___________________\n",
      "____/______/______/___|o;._    \"      `\".o|o_.--\"    ;o;____/______/______/____\n",
      "/______/______/______/_\"=._o--._        ; | ;        ; ;/______/______/______/_\n",
      "____/______/______/______/__\"=._o--._   ;o|o;     _._;o;____/______/______/____\n",
      "/______/______/______/______/____\"=._o._; | ;_.--\"o.--\"_/______/______/______/_\n",
      "____/______/______/______/______/_____\"=.o|o_.--\"\"___/______/______/______/____\n",
      "/______/______/______/______/______/______/______/______/______/______/_____ /\n",
      "*******************************************************************************\n",
      "\n",
      "Welcome to Treasure Island.\n",
      "Your mission is to find the treasure.\n",
      "The door you chose had snakes inside and you died of their poison\n"
     ]
    }
   ],
   "source": [
    "print('''\n",
    "*******************************************************************************\n",
    "          |                   |                  |                     |\n",
    " _________|________________.=\"\"_;=.______________|_____________________|_______\n",
    "|                   |  ,-\"_,=\"\"     `\"=.|                  |\n",
    "|___________________|__\"=._o`\"-._        `\"=.______________|___________________\n",
    "          |                `\"=._o`\"=._      _`\"=._                     |\n",
    " _________|_____________________:=._o \"=._.\"_.-=\"'\"=.__________________|_______\n",
    "|                   |    __.--\" , ; `\"=._o.\" ,-\"\"\"-._ \".   |\n",
    "|___________________|_._\"  ,. .` ` `` ,  `\"-._\"-._   \". '__|___________________\n",
    "          |           |o`\"=._` , \"` `; .\". ,  \"-._\"-._; ;              |\n",
    " _________|___________| ;`-.o`\"=._; .\" ` '`.\"\\` . \"-._ /_______________|_______\n",
    "|                   | |o;    `\"-.o`\"=._``  '` \" ,__.--o;   |\n",
    "|___________________|_| ;     (#) `-.o `\"=.`_.--\"_o.-; ;___|___________________\n",
    "____/______/______/___|o;._    \"      `\".o|o_.--\"    ;o;____/______/______/____\n",
    "/______/______/______/_\"=._o--._        ; | ;        ; ;/______/______/______/_\n",
    "____/______/______/______/__\"=._o--._   ;o|o;     _._;o;____/______/______/____\n",
    "/______/______/______/______/____\"=._o._; | ;_.--\"o.--\"_/______/______/______/_\n",
    "____/______/______/______/______/_____\"=.o|o_.--\"\"___/______/______/______/____\n",
    "/______/______/______/______/______/______/______/______/______/______/_____ /\n",
    "*******************************************************************************\n",
    "''')\n",
    "print(\"Welcome to Treasure Island.\")\n",
    "print(\"Your mission is to find the treasure.\") \n",
    "\n",
    "#https://www.draw.io/?lightbox=1&highlight=0000ff&edit=_blank&layers=1&nav=1&title=Treasure%20Island%20Conditional.drawio#Uhttps%3A%2F%2Fdrive.google.com%2Fuc%3Fid%3D1oDe4ehjWZipYRsVfeAx2HyB7LCQ8_Fvi%26export%3Ddownload\n",
    "\n",
    "#Write your code below this line 👇\n",
    "\n",
    "firstChoice = input(\"You came across two roads the one on the right has a broken skull of a cow on the side while the other has a sign telling not to go this way, where do you go?\")\n",
    "if(firstChoice.lower() == \"right\"):\n",
    "    secondChoice = input(\"The right side was a correct choice, you survived and walked over 20 minutes suddenly you approach a bridge on the left side and a road to a cave on the right side, do you go left or right?\")\n",
    "    if(secondChoice.lower() == \"right\"):\n",
    "        thirdChoice = input(\"You went into a cave and saw the bridge fall apart while going towards the cave. In the cave you are in a weird situation. You see three doors: Red, Blue and Yellow. Which one do you go inside?\")\n",
    "        if(thirdChoice.lower() == \"yellow\"):\n",
    "            print(\"You have found a life-partner of your dreams, you win!\")\n",
    "        else:\n",
    "            print(\"The door you chose had snakes inside and you died of their poison\")\n",
    "    else:\n",
    "        print(\"You went left and as soon as you walked three steps toward the bridge, you fell and hit your head with a rock and sunk inside the pond.\")\n",
    "else:\n",
    "    print(\"You went left and as you went towards the huge cave in front of you, you got attacked by a warewolf to your death.\")\n",
    "    print()"
   ]
  },
  {
   "cell_type": "code",
   "execution_count": null,
   "metadata": {},
   "outputs": [],
   "source": []
  }
 ],
 "metadata": {
  "kernelspec": {
   "display_name": "Python 3",
   "language": "python",
   "name": "python3"
  },
  "language_info": {
   "codemirror_mode": {
    "name": "ipython",
    "version": 3
   },
   "file_extension": ".py",
   "mimetype": "text/x-python",
   "name": "python",
   "nbconvert_exporter": "python",
   "pygments_lexer": "ipython3",
   "version": "3.10.12"
  }
 },
 "nbformat": 4,
 "nbformat_minor": 2
}
