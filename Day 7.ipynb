{
 "cells": [
  {
   "cell_type": "markdown",
   "metadata": {},
   "source": [
    "# Hangman mini-project\n"
   ]
  },
  {
   "cell_type": "code",
   "execution_count": null,
   "metadata": {},
   "outputs": [],
   "source": []
  },
  {
   "cell_type": "code",
   "execution_count": 3,
   "metadata": {},
   "outputs": [
    {
     "name": "stdout",
     "output_type": "stream",
     "text": [
      "Hey, the answer is camel\n",
      "['_', '_', '_', '_', '_']\n",
      "Guess a letter: \n",
      "['_', 'a', '_', '_', '_']\n",
      "check str: _a___\n",
      "Guess a letter: \n",
      "['c', 'a', '_', '_', '_']\n",
      "check str: ca___\n",
      "Guess a letter: \n",
      "['c', 'a', 'm', '_', '_']\n",
      "check str: cam__\n",
      "Guess a letter: \n",
      "['c', 'a', 'm', 'e', '_']\n",
      "check str: came_\n",
      "Guess a letter: \n",
      "['c', 'a', 'm', 'e', 'l']\n",
      "check str: camel\n"
     ]
    }
   ],
   "source": [
    "import random\n",
    "word_list = [\"aardvark\", \"baboon\", \"camel\"]\n",
    "\n",
    "chosen_word = word_list[random.randint(0, len(word_list) - 1)]\n",
    "check_str = \"\"\n",
    "print(f\"Hey, the answer is {chosen_word}\")\n",
    "\n",
    "display = []\n",
    "for i in range(0, len(chosen_word)):\n",
    "    display += \"_\"\n",
    "\n",
    "print(display)\n",
    "while chosen_word != check_str:\n",
    "    check_str = \"\"\n",
    "    print(\"Guess a letter: \")\n",
    "    guess = input(\"Guess a letter: \").lower()\n",
    "\n",
    "    for i in range(len(chosen_word)):\n",
    "        if chosen_word[i] == guess:\n",
    "            display[i] = guess\n",
    "    \n",
    "    for i in range(len(chosen_word)):  \n",
    "        check_str += display[i]\n",
    "    print(display)\n"
   ]
  },
  {
   "cell_type": "code",
   "execution_count": null,
   "metadata": {},
   "outputs": [],
   "source": []
  }
 ],
 "metadata": {
  "kernelspec": {
   "display_name": "Python 3",
   "language": "python",
   "name": "python3"
  },
  "language_info": {
   "codemirror_mode": {
    "name": "ipython",
    "version": 3
   },
   "file_extension": ".py",
   "mimetype": "text/x-python",
   "name": "python",
   "nbconvert_exporter": "python",
   "pygments_lexer": "ipython3",
   "version": "3.12.2"
  }
 },
 "nbformat": 4,
 "nbformat_minor": 2
}
