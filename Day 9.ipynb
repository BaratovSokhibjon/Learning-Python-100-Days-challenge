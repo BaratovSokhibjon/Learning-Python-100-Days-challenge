{
 "cells": [
  {
   "cell_type": "markdown",
   "metadata": {},
   "source": [
    "# Day 9\n",
    "\n",
    "## Dictionaries and nested datas"
   ]
  },
  {
   "cell_type": "code",
   "execution_count": 16,
   "metadata": {},
   "outputs": [
    {
     "name": "stdout",
     "output_type": "stream",
     "text": [
      "Seoul\n"
     ]
    }
   ],
   "source": [
    "countriesVisited = {\n",
    "    \"key\": [\"foo\", \"cat\", \"bash\"],\n",
    "    \"Uzbekistan\": \"Tashkent\",\n",
    "    \"Korea\": \"Seoul\",\n",
    "    \"Russia\": \"Moscow\"\n",
    "}\n",
    "\n",
    "print(countriesVisited[\"Korea\"]) # Seoul"
   ]
  },
  {
   "cell_type": "code",
   "execution_count": 2,
   "metadata": {},
   "outputs": [
    {
     "name": "stdout",
     "output_type": "stream",
     "text": [
      "Samarqand\n"
     ]
    }
   ],
   "source": [
    "countriesVisited[\"Uzbekistan\"] = \"Samarqand\"\n",
    "\n",
    "print(countriesVisited[\"Uzbekistan\"])"
   ]
  },
  {
   "cell_type": "code",
   "execution_count": 17,
   "metadata": {},
   "outputs": [
    {
     "name": "stdout",
     "output_type": "stream",
     "text": [
      "dict_items([('key', ['foo', 'cat', 'bash']), ('Uzbekistan', 'Tashkent'), ('Korea', 'Seoul'), ('Russia', 'Moscow')])\n"
     ]
    }
   ],
   "source": [
    "# countriesVisited.clear()\n",
    "# countriesVisited = {}\n",
    "print(countriesVisited.items())"
   ]
  },
  {
   "cell_type": "code",
   "execution_count": 36,
   "metadata": {},
   "outputs": [
    {
     "name": "stdout",
     "output_type": "stream",
     "text": [
      "cat\n",
      "Uzbekistan: Tashkent\n",
      "Korea: Seoul\n",
      "Russia: Moscow\n"
     ]
    }
   ],
   "source": [
    "for key, value in countriesVisited.items():\n",
    "    if value == list(value):\n",
    "        print(value[1])\n",
    "    else:\n",
    "        print(key + \": \" + value)"
   ]
  },
  {
   "cell_type": "code",
   "execution_count": 77,
   "metadata": {},
   "outputs": [],
   "source": [
    "values = {\n",
    "    2: 4,\n",
    "    4: 3,\n",
    "    1: 3,\n",
    "    5: 1\n",
    "}"
   ]
  },
  {
   "cell_type": "code",
   "execution_count": 37,
   "metadata": {},
   "outputs": [
    {
     "name": "stdout",
     "output_type": "stream",
     "text": [
      "[1, 4, 6, 7, 3, 6, 7]\n",
      "[1, 3, 4, 6, 6, 7, 7]\n"
     ]
    }
   ],
   "source": [
    "integers = [1, 4, 6, 7, 3, 6, 7]\n",
    "print(integers)\n",
    "print(sorted(integers))"
   ]
  },
  {
   "cell_type": "code",
   "execution_count": 80,
   "metadata": {},
   "outputs": [
    {
     "name": "stdout",
     "output_type": "stream",
     "text": [
      "[5, 4, 1, 2]\n"
     ]
    }
   ],
   "source": [
    "sorted_values = sorted(values, key=values.get)\n",
    "print(sorted_values)"
   ]
  },
  {
   "cell_type": "code",
   "execution_count": 81,
   "metadata": {},
   "outputs": [
    {
     "name": "stdout",
     "output_type": "stream",
     "text": [
      "1\n",
      "3\n",
      "3\n",
      "4\n"
     ]
    }
   ],
   "source": [
    "for value in sorted_values:\n",
    "    print(values.get(value))"
   ]
  },
  {
   "cell_type": "code",
   "execution_count": 83,
   "metadata": {},
   "outputs": [
    {
     "name": "stdout",
     "output_type": "stream",
     "text": [
      "2\n"
     ]
    }
   ],
   "source": [
    "print(max(values, key=values.get))"
   ]
  }
 ],
 "metadata": {
  "kernelspec": {
   "display_name": "Python 3",
   "language": "python",
   "name": "python3"
  },
  "language_info": {
   "codemirror_mode": {
    "name": "ipython",
    "version": 3
   },
   "file_extension": ".py",
   "mimetype": "text/x-python",
   "name": "python",
   "nbconvert_exporter": "python",
   "pygments_lexer": "ipython3",
   "version": "3.12.5"
  }
 },
 "nbformat": 4,
 "nbformat_minor": 2
}
