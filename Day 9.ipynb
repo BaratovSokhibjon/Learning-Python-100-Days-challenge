{
 "cells": [
  {
   "cell_type": "markdown",
   "metadata": {},
   "source": [
    "# Day 9\n",
    "\n",
    "## Dictionaries and nested datas"
   ]
  },
  {
   "cell_type": "code",
   "execution_count": 16,
   "metadata": {},
   "outputs": [
    {
     "name": "stdout",
     "output_type": "stream",
     "text": [
      "Seoul\n"
     ]
    }
   ],
   "source": [
    "countriesVisited = {\n",
    "    \"key\": [\"foo\", \"cat\", \"bash\"],\n",
    "    \"Uzbekistan\": \"Tashkent\",\n",
    "    \"Korea\": \"Seoul\",\n",
    "    \"Russia\": \"Moscow\"\n",
    "}\n",
    "\n",
    "print(countriesVisited[\"Korea\"]) # Seoul"
   ]
  },
  {
   "cell_type": "code",
   "execution_count": 2,
   "metadata": {},
   "outputs": [
    {
     "name": "stdout",
     "output_type": "stream",
     "text": [
      "Samarqand\n"
     ]
    }
   ],
   "source": [
    "countriesVisited[\"Uzbekistan\"] = \"Samarqand\"\n",
    "\n",
    "print(countriesVisited[\"Uzbekistan\"])"
   ]
  },
  {
   "cell_type": "code",
   "execution_count": 17,
   "metadata": {},
   "outputs": [
    {
     "name": "stdout",
     "output_type": "stream",
     "text": [
      "dict_items([('key', ['foo', 'cat', 'bash']), ('Uzbekistan', 'Tashkent'), ('Korea', 'Seoul'), ('Russia', 'Moscow')])\n"
     ]
    }
   ],
   "source": [
    "# countriesVisited.clear()\n",
    "# countriesVisited = {}\n",
    "print(countriesVisited.items())"
   ]
  },
  {
   "cell_type": "code",
   "execution_count": 36,
   "metadata": {},
   "outputs": [
    {
     "name": "stdout",
     "output_type": "stream",
     "text": [
      "cat\n",
      "Uzbekistan: Tashkent\n",
      "Korea: Seoul\n",
      "Russia: Moscow\n"
     ]
    }
   ],
   "source": [
    "for key, value in countriesVisited.items():\n",
    "    if value == list(value):\n",
    "        print(value[1])\n",
    "    else:\n",
    "        print(key + \": \" + value)"
   ]
  },
  {
   "cell_type": "code",
   "execution_count": 77,
   "metadata": {},
   "outputs": [],
   "source": [
    "values = {\n",
    "    2: 4,\n",
    "    4: 3,\n",
    "    1: 3,\n",
    "    5: 1\n",
    "}"
   ]
  },
  {
   "cell_type": "code",
   "execution_count": 37,
   "metadata": {},
   "outputs": [
    {
     "name": "stdout",
     "output_type": "stream",
     "text": [
      "[1, 4, 6, 7, 3, 6, 7]\n",
      "[1, 3, 4, 6, 6, 7, 7]\n"
     ]
    }
   ],
   "source": [
    "integers = [1, 4, 6, 7, 3, 6, 7]\n",
    "print(integers)\n",
    "print(sorted(integers))"
   ]
  },
  {
   "cell_type": "code",
   "execution_count": 80,
   "metadata": {},
   "outputs": [
    {
     "name": "stdout",
     "output_type": "stream",
     "text": [
      "[5, 4, 1, 2]\n"
     ]
    }
   ],
   "source": [
    "sorted_values = sorted(values, key=values.get)\n",
    "print(sorted_values)"
   ]
  },
  {
   "cell_type": "code",
   "execution_count": 81,
   "metadata": {},
   "outputs": [
    {
     "name": "stdout",
     "output_type": "stream",
     "text": [
      "1\n",
      "3\n",
      "3\n",
      "4\n"
     ]
    }
   ],
   "source": [
    "for value in sorted_values:\n",
    "    print(values.get(value))"
   ]
  },
  {
   "cell_type": "code",
   "execution_count": 83,
   "metadata": {},
   "outputs": [
    {
     "name": "stdout",
     "output_type": "stream",
     "text": [
      "2\n"
     ]
    }
   ],
   "source": [
    "print(max(values, key=values.get))"
   ]
  },
  {
   "cell_type": "markdown",
   "metadata": {},
   "source": [
    "# Blind auction program"
   ]
  },
  {
   "cell_type": "code",
   "execution_count": 1,
   "metadata": {},
   "outputs": [
    {
     "name": "stderr",
     "output_type": "stream",
     "text": [
      "<>:1: SyntaxWarning: invalid escape sequence '\\ '\n",
      "<>:1: SyntaxWarning: invalid escape sequence '\\ '\n",
      "C:\\Users\\sokhi\\AppData\\Local\\Temp\\ipykernel_19300\\1399407783.py:1: SyntaxWarning: invalid escape sequence '\\ '\n",
      "  logo = '''\n"
     ]
    }
   ],
   "source": [
    "logo = '''\n",
    "                         ___________\n",
    "                         \\         /\n",
    "                          )_______(\n",
    "                          |\"\"\"\"\"\"\"|_.-._,.---------.,_.-._\n",
    "                          |       | | |               | | ''-.\n",
    "                          |       |_| |_             _| |_..-'\n",
    "                          |_______| '-' `'---------'` '-'\n",
    "                          )\"\"\"\"\"\"\"(\n",
    "                         /_________\\\\\n",
    "                       .-------------.\n",
    "                      /_______________\\\\\n",
    "'''"
   ]
  },
  {
   "cell_type": "code",
   "execution_count": 15,
   "metadata": {},
   "outputs": [],
   "source": [
    "def clear():\n",
    "    print(\"/n\"*10)"
   ]
  },
  {
   "cell_type": "code",
   "execution_count": 16,
   "metadata": {},
   "outputs": [],
   "source": [
    "data = {}"
   ]
  },
  {
   "cell_type": "code",
   "execution_count": 18,
   "metadata": {},
   "outputs": [
    {
     "name": "stdout",
     "output_type": "stream",
     "text": [
      "The winner is sokhib with a bid of 12\n"
     ]
    }
   ],
   "source": [
    "# print(logo)\n",
    "\n",
    "\n",
    "\n",
    "moreBidders = True\n",
    "while moreBidders:\n",
    "    name = input(\"What is your name?\")\n",
    "    bidAmount = int(input(\"How much do you want to bid?\"))\n",
    "    data[name] = bidAmount\n",
    "    addUsers = input(\"Are there anyone else who want to bid? (yes/no)\").lower()\n",
    "    if addUsers == \"no\":\n",
    "        moreBidders = False\n",
    "        print(\"The winner is \" + max(data, key=data.get) + \" with a bid of \" + str(data[max(data, key=data.get)]))\n",
    "    elif addUsers == \"yes\":\n",
    "        moreBidders = True\n",
    "        clear()\n",
    "    else:\n",
    "        print(\"Syntax Error\")\n",
    "        break   \n"
   ]
  },
  {
   "cell_type": "code",
   "execution_count": null,
   "metadata": {},
   "outputs": [],
   "source": []
  }
 ],
 "metadata": {
  "kernelspec": {
   "display_name": "Python 3",
   "language": "python",
   "name": "python3"
  },
  "language_info": {
   "codemirror_mode": {
    "name": "ipython",
    "version": 3
   },
   "file_extension": ".py",
   "mimetype": "text/x-python",
   "name": "python",
   "nbconvert_exporter": "python",
   "pygments_lexer": "ipython3",
   "version": "3.12.5"
  }
 },
 "nbformat": 4,
 "nbformat_minor": 2
}
