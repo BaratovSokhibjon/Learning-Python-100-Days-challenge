{
 "cells": [
  {
   "cell_type": "markdown",
   "metadata": {},
   "source": [
    "# Randomization and lists in Python"
   ]
  },
  {
   "cell_type": "code",
   "execution_count": 6,
   "metadata": {},
   "outputs": [
    {
     "name": "stdout",
     "output_type": "stream",
     "text": [
      "3\n"
     ]
    }
   ],
   "source": [
    "import random\n",
    "\n",
    "print(random.randint(1, 5))"
   ]
  },
  {
   "cell_type": "code",
   "execution_count": 88,
   "metadata": {},
   "outputs": [
    {
     "name": "stdout",
     "output_type": "stream",
     "text": [
      "0.06964849367821091\n"
     ]
    }
   ],
   "source": [
    "random_float = random.random()\n",
    "print(random_float)"
   ]
  },
  {
   "cell_type": "code",
   "execution_count": 92,
   "metadata": {},
   "outputs": [
    {
     "name": "stdout",
     "output_type": "stream",
     "text": [
      "Pencilvania\n"
     ]
    }
   ],
   "source": [
    "statesOfUSA = [\"Delaware\", \"Pennsylvania\", \"New Jersey\", \"Georgia\", \"Connecticut\", \"Massachusetts\", \"Maryland\", \"South Carolina\", \"New Hampshire\", \"Virginia\", \"New York\", \"North Carolina\", \"Rhode Island\", \"Vermont\", \"Kentucky\", \"Tennessee\", \"Ohio\", \"Louisiana\", \"Indiana\", \"Mississippi\", \"Illinois\", \"Alabama\", \"Maine\", \"Missouri\", \"Arkansas\", \"Michigan\", \"Florida\", \"Texas\", \"Iowa\", \"Wisconsin\", \"California\", \"Minnesota\", \"Oregon\", \"Kansas\", \"West Virginia\", \"Nevada\", \"Nebraska\", \"Colorado\", \"North Dakota\", \"South Dakota\", \"Montana\", \"Washington\", \"Idaho\", \"Wyoming\", \"Utah\", \"Oklahoma\", \"New Mexico\", \"Arizona\", \"Alaska\", \"Hawaii\"]\n",
    "statesOfUSA[-1]\n",
    "\n",
    "statesOfUSA[1] = \"Pencilvania\"\n",
    "print(statesOfUSA[1])\n"
   ]
  },
  {
   "cell_type": "code",
   "execution_count": 94,
   "metadata": {},
   "outputs": [
    {
     "data": {
      "text/plain": [
       "'sokhibland'"
      ]
     },
     "execution_count": 94,
     "metadata": {},
     "output_type": "execute_result"
    }
   ],
   "source": [
    "statesOfUSA.append(\"sokhibland\")\n",
    "statesOfUSA[-1]"
   ]
  },
  {
   "cell_type": "code",
   "execution_count": 98,
   "metadata": {},
   "outputs": [
    {
     "name": "stdout",
     "output_type": "stream",
     "text": [
      "mwoland\n",
      "elyorland\n",
      "dilshodland\n",
      "mwoland\n"
     ]
    }
   ],
   "source": [
    "statesOfUSA.extend([\"dilshodland\", \"elyorland\", \"mwoland\"])\n",
    "print(statesOfUSA[-1])\n",
    "print(statesOfUSA[-2])\n",
    "print(statesOfUSA[-3])\n",
    "print(statesOfUSA[-4])"
   ]
  },
  {
   "cell_type": "markdown",
   "metadata": {},
   "source": [
    "# Banker roulette app"
   ]
  },
  {
   "cell_type": "code",
   "execution_count": 161,
   "metadata": {},
   "outputs": [
    {
     "name": "stdout",
     "output_type": "stream",
     "text": [
      "5\n",
      "0\n",
      "asadbek is going to buy the meal today!\n"
     ]
    }
   ],
   "source": [
    "names = [\"sokhib\", \"dilshod\", \"elyor\", \"bahodir\", \"asadbek\"]\n",
    "# names_string contains the input values provided. \n",
    "# The code above converts the input into an array seperating\n",
    "# each name in the input by a comma and space.\n",
    "# 🚨 Don't change the code above 👆\n",
    "\n",
    "import random\n",
    "\n",
    "rand = random.randint(0, len(names) -1)\n",
    "print(len(names))\n",
    "print(rand)\n",
    "print(f\"{names[rand -1]} is going to buy the meal today!\")"
   ]
  },
  {
   "cell_type": "markdown",
   "metadata": {},
   "source": [
    "# The Treasure map program\n"
   ]
  },
  {
   "cell_type": "code",
   "execution_count": 168,
   "metadata": {},
   "outputs": [
    {
     "name": "stdout",
     "output_type": "stream",
     "text": [
      "Hiding your treasure! X marks the spot.\n",
      "['⬜️', 'X', '️⬜️']\n",
      "['⬜️', '⬜️', '️⬜️']\n",
      "['⬜️️', '⬜️️', '⬜️️']\n"
     ]
    }
   ],
   "source": [
    "line1 = [\"⬜️\",\"️⬜️\",\"️⬜️\"]\n",
    "line2 = [\"⬜️\",\"⬜️\",\"️⬜️\"]\n",
    "line3 = [\"⬜️️\",\"⬜️️\",\"⬜️️\"]\n",
    "map = [line1, line2, line3]\n",
    "print(\"Hiding your treasure! X marks the spot.\")\n",
    "position = input() # Where do you want to put the treasure?\n",
    "# 🚨 Don't change the code above 👆\n",
    "# Write your code below this row 👇\n",
    "\n",
    "position = str(position)\n",
    "letterwise = position[0].lower()\n",
    "numberwise = position[1]\n",
    "\n",
    "abc = [\"a\", \"b\", \"c\"]\n",
    "\n",
    "letter_index = abc.index(letterwise)\n",
    "\n",
    "number_index = int(int(numberwise) - 1)\n",
    "map[number_index][letter_index] = \"X\"\n",
    "# Write your code above this row 👆\n",
    "# 🚨 Don't change the code below 👇\n",
    "print(f\"{line1}\\n{line2}\\n{line3}\")"
   ]
  },
  {
   "cell_type": "markdown",
   "metadata": {},
   "source": [
    "# Day 4 project: Rock Paper Scisors game"
   ]
  },
  {
   "cell_type": "code",
   "execution_count": 180,
   "metadata": {},
   "outputs": [
    {
     "name": "stdout",
     "output_type": "stream",
     "text": [
      "\n",
      "    _______\n",
      "---'   ____)____\n",
      "          ______)\n",
      "       __________)\n",
      "      (____)\n",
      "---.__(___)\n",
      "\n",
      "\n",
      "\n",
      "Computer chose: \n",
      "\n",
      "\n",
      "    _______\n",
      "---'   ____)____\n",
      "          ______)\n",
      "          _______)\n",
      "         _______)\n",
      "---.__________)\n",
      "\n",
      "You win!\n"
     ]
    }
   ],
   "source": [
    "rock = '''\n",
    "    _______\n",
    "---'   ____)\n",
    "      (_____)\n",
    "      (_____)\n",
    "      (____)\n",
    "---.__(___)\n",
    "'''\n",
    "\n",
    "paper = '''\n",
    "    _______\n",
    "---'   ____)____\n",
    "          ______)\n",
    "          _______)\n",
    "         _______)\n",
    "---.__________)\n",
    "'''\n",
    "\n",
    "scissors = '''\n",
    "    _______\n",
    "---'   ____)____\n",
    "          ______)\n",
    "       __________)\n",
    "      (____)\n",
    "---.__(___)\n",
    "'''\n",
    "\n",
    "#Write your code below this line 👇\n",
    "import random\n",
    "commodities = [rock, paper, scissors]\n",
    "\n",
    "playersChoice = input(\"What do you choose? Type 0 for Rock, 1 for Paper or 2 for Scissors.\\n\")\n",
    "if(int(playersChoice) >= 3):\n",
    "    print(\"You have entered invalid number!\")\n",
    "else:\n",
    "    print(commodities[int(playersChoice)])\n",
    "    print(\"\\n\")\n",
    "\n",
    "    computersChoice = random.randint(0, 2)\n",
    "    print(\"Computer chose: \\n\")\n",
    "    print(commodities[int(computersChoice)])\n",
    "\n",
    "    if(computersChoice == int(playersChoice)):\n",
    "        print(\"It's a draw\")\n",
    "    elif(computersChoice == 0 and int(playersChoice) == 2):\n",
    "        print(\"You lose\")\n",
    "    elif (computersChoice == 2 and int(playersChoice) == 0):\n",
    "        print(\"You win!\")\n",
    "    elif computersChoice > int(playersChoice):\n",
    "        print(\"You lose\")\n",
    "    elif int(playersChoice) > computersChoice:\n",
    "        print(\"You win!\")\n"
   ]
  }
 ],
 "metadata": {
  "kernelspec": {
   "display_name": "Python 3",
   "language": "python",
   "name": "python3"
  },
  "language_info": {
   "codemirror_mode": {
    "name": "ipython",
    "version": 3
   },
   "file_extension": ".py",
   "mimetype": "text/x-python",
   "name": "python",
   "nbconvert_exporter": "python",
   "pygments_lexer": "ipython3",
   "version": "3.10.12"
  }
 },
 "nbformat": 4,
 "nbformat_minor": 2
}
